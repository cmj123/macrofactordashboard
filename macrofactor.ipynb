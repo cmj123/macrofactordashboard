{
 "cells": [
  {
   "cell_type": "code",
   "execution_count": 1,
   "metadata": {},
   "outputs": [],
   "source": [
    "#import libraries\n",
    "import ipywidgets as ipw"
   ]
  },
  {
   "cell_type": "code",
   "execution_count": 2,
   "metadata": {},
   "outputs": [
    {
     "data": {
      "application/vnd.jupyter.widget-view+json": {
       "model_id": "5f312ceb00424c23875f0033ed2ebcfa",
       "version_major": 2,
       "version_minor": 0
      },
      "text/plain": [
       "VBox(children=(HTML(value='<h1>Macroeconomic Dashboard</h1>', layout=Layout(margin='20px 0px 20px 160px')),))"
      ]
     },
     "execution_count": 2,
     "metadata": {},
     "output_type": "execute_result"
    }
   ],
   "source": [
    "# Creating dasboard interface\n",
    "\n",
    "# App Title\n",
    "banner = ipw.HTML(\"<h1>Macroeconomic Dashboard</h1>\", layout={'margin':'20px 0px 20px 160px'})\n",
    "\n",
    "dashboard_view = ipw.VBox([banner])\n",
    "dashboard_view"
   ]
  },
  {
   "cell_type": "code",
   "execution_count": null,
   "metadata": {},
   "outputs": [],
   "source": []
  }
 ],
 "metadata": {
  "kernelspec": {
   "display_name": "Python 3 (ipykernel)",
   "language": "python",
   "name": "python3"
  },
  "language_info": {
   "codemirror_mode": {
    "name": "ipython",
    "version": 3
   },
   "file_extension": ".py",
   "mimetype": "text/x-python",
   "name": "python",
   "nbconvert_exporter": "python",
   "pygments_lexer": "ipython3",
   "version": "3.8.9"
  },
  "vscode": {
   "interpreter": {
    "hash": "1e6079daa67c82c6e85ba2398cb233f30be0076f2af86a6171b02c22785ae505"
   }
  }
 },
 "nbformat": 4,
 "nbformat_minor": 2
}
